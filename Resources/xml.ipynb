{
 "cells": [
  {
   "cell_type": "code",
   "execution_count": 4,
   "metadata": {},
   "outputs": [],
   "source": [
    "import xml.etree.ElementTree as ET\n",
    "\n",
    "def extract_bndbox_from_xml(file_path):\n",
    "    try:\n",
    "        # 開啟XML檔案並讀取資料\n",
    "        with open(file_path, 'r') as file:\n",
    "            xml_data = file.read()\n",
    "            \n",
    "            # 解析XML\n",
    "            root = ET.fromstring(xml_data)\n",
    "\n",
    "            # 儲存提取的資料的列表\n",
    "            bndbox_list = []\n",
    "\n",
    "            # 找到所有的<object>元素\n",
    "            objects = root.findall('object')\n",
    "            for obj in objects:\n",
    "                # 找到<bndbox>元素\n",
    "                bndbox = obj.find('bndbox')\n",
    "                if bndbox is not None:\n",
    "                    # 提取xmin、ymin、xmax、ymax資料\n",
    "                    xmin = int(bndbox.find('xmin').text)\n",
    "                    ymin = int(bndbox.find('ymin').text)\n",
    "                    xmax = int(bndbox.find('xmax').text)\n",
    "                    ymax = int(bndbox.find('ymax').text)\n",
    "\n",
    "                    # 將提取的資料存入列表\n",
    "                    bndbox_list.append((xmin, ymin, xmax, ymax))\n",
    "\n",
    "            return bndbox_list\n",
    "        \n",
    "    except FileNotFoundError:\n",
    "        print(\"找不到指定的檔案:\", file_path)\n",
    "        return []"
   ]
  },
  {
   "cell_type": "code",
   "execution_count": 8,
   "metadata": {},
   "outputs": [
    {
     "name": "stdout",
     "output_type": "stream",
     "text": [
      "AddWall(Point(1, 1), Point(190, 94));\n",
      "AddWall(Point(191, 1), Point(542, 143));\n",
      "AddWall(Point(1, 273), Point(192, 412));\n",
      "AddWall(Point(192, 224), Point(544, 352));\n",
      "AddWall(Point(520, 352), Point(672, 703));\n",
      "AddWall(Point(452, 704), Point(591, 960));\n",
      "AddWall(Point(752, 352), Point(909, 704));\n",
      "AddWall(Point(832, 705), Point(969, 960));\n"
     ]
    }
   ],
   "source": [
    "# 指定XML檔案路徑\n",
    "xml_file_path = \"./map/1-1.xml\"\n",
    "\n",
    "# 提取資料\n",
    "bndbox_list = extract_bndbox_from_xml(xml_file_path)\n",
    "for box in bndbox_list:\n",
    "    print(f\"AddWall(Point({box[0]}, {box[1]}), Point({box[2]}, {box[3]}));\") \n"
   ]
  },
  {
   "cell_type": "code",
   "execution_count": null,
   "metadata": {},
   "outputs": [],
   "source": []
  }
 ],
 "metadata": {
  "kernelspec": {
   "display_name": "opencv",
   "language": "python",
   "name": "python3"
  },
  "language_info": {
   "codemirror_mode": {
    "name": "ipython",
    "version": 3
   },
   "file_extension": ".py",
   "mimetype": "text/x-python",
   "name": "python",
   "nbconvert_exporter": "python",
   "pygments_lexer": "ipython3",
   "version": "3.10.13"
  }
 },
 "nbformat": 4,
 "nbformat_minor": 2
}
