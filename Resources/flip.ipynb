{
 "cells": [
  {
   "cell_type": "markdown",
   "metadata": {},
   "source": [
    "# Flip Image"
   ]
  },
  {
   "cell_type": "code",
   "execution_count": 4,
   "metadata": {},
   "outputs": [],
   "source": [
    "import os\n",
    "import cv2\n",
    "\n",
    "def flip_bmp(input_path, output_path):\n",
    "    image = cv2.imread(input_path)\n",
    "    image = cv2.flip(image, 1)\n",
    "    cv2.imwrite(output_path, image)"
   ]
  },
  {
   "cell_type": "code",
   "execution_count": 9,
   "metadata": {},
   "outputs": [],
   "source": [
    "for root, dirs, files in os.walk('.'):\n",
    "    for file in files:\n",
    "        if file.endswith('.bmp'):\n",
    "            if not any(excluded_dir in root for excluded_dir in ['game', 'start']):\n",
    "                input_path = os.path.join(root, file)\n",
    "                output_path = os.path.join(root, 'flip_' + file)\n",
    "                if not input_path.__contains__('flip_'):\n",
    "                    flip_bmp(input_path, output_path)"
   ]
  },
  {
   "cell_type": "markdown",
   "metadata": {},
   "source": [
    "# Player"
   ]
  },
  {
   "cell_type": "markdown",
   "metadata": {},
   "source": [
    "## Knight"
   ]
  },
  {
   "cell_type": "markdown",
   "metadata": {},
   "source": [
    "### idle"
   ]
  },
  {
   "cell_type": "code",
   "execution_count": 3,
   "metadata": {},
   "outputs": [
    {
     "ename": "error",
     "evalue": "OpenCV(4.9.0) D:\\a\\opencv-python\\opencv-python\\opencv\\modules\\imgcodecs\\src\\loadsave.cpp:786: error: (-215:Assertion failed) !_img.empty() in function 'cv::imwrite'\n",
     "output_type": "error",
     "traceback": [
      "\u001b[1;31m---------------------------------------------------------------------------\u001b[0m",
      "\u001b[1;31merror\u001b[0m                                     Traceback (most recent call last)",
      "Cell \u001b[1;32mIn[3], line 1\u001b[0m\n\u001b[1;32m----> 1\u001b[0m \u001b[43mflip_bmp\u001b[49m\u001b[43m(\u001b[49m\u001b[38;5;124;43m\"\u001b[39;49m\u001b[38;5;124;43m../player/bmp/knight/idle/1.bmp\u001b[39;49m\u001b[38;5;124;43m\"\u001b[39;49m\u001b[43m,\u001b[49m\u001b[43m \u001b[49m\u001b[38;5;124;43m\"\u001b[39;49m\u001b[38;5;124;43mplayer/bmp/knight/idle/flip_1.bmp\u001b[39;49m\u001b[38;5;124;43m\"\u001b[39;49m\u001b[43m)\u001b[49m\n\u001b[0;32m      2\u001b[0m flip_bmp(\u001b[38;5;124m\"\u001b[39m\u001b[38;5;124m../player/bmp/knight/idle/2.bmp\u001b[39m\u001b[38;5;124m\"\u001b[39m, \u001b[38;5;124m\"\u001b[39m\u001b[38;5;124mplayer/bmp/knight/idle/flip_2.bmp\u001b[39m\u001b[38;5;124m\"\u001b[39m)\n\u001b[0;32m      3\u001b[0m flip_bmp(\u001b[38;5;124m\"\u001b[39m\u001b[38;5;124m../player/bmp/knight/idle/3.bmp\u001b[39m\u001b[38;5;124m\"\u001b[39m, \u001b[38;5;124m\"\u001b[39m\u001b[38;5;124mplayer/bmp/knight/idle/flip_3.bmp\u001b[39m\u001b[38;5;124m\"\u001b[39m)\n",
      "Cell \u001b[1;32mIn[2], line 7\u001b[0m, in \u001b[0;36mflip_bmp\u001b[1;34m(input_path, output_path)\u001b[0m\n\u001b[0;32m      5\u001b[0m image \u001b[38;5;241m=\u001b[39m cv2\u001b[38;5;241m.\u001b[39mimread(input_path)\n\u001b[0;32m      6\u001b[0m image \u001b[38;5;241m=\u001b[39m cv2\u001b[38;5;241m.\u001b[39mflip(image, \u001b[38;5;241m1\u001b[39m)\n\u001b[1;32m----> 7\u001b[0m \u001b[43mcv2\u001b[49m\u001b[38;5;241;43m.\u001b[39;49m\u001b[43mimwrite\u001b[49m\u001b[43m(\u001b[49m\u001b[43moutput_path\u001b[49m\u001b[43m,\u001b[49m\u001b[43m \u001b[49m\u001b[43mimage\u001b[49m\u001b[43m)\u001b[49m\n",
      "\u001b[1;31merror\u001b[0m: OpenCV(4.9.0) D:\\a\\opencv-python\\opencv-python\\opencv\\modules\\imgcodecs\\src\\loadsave.cpp:786: error: (-215:Assertion failed) !_img.empty() in function 'cv::imwrite'\n"
     ]
    }
   ],
   "source": [
    "flip_bmp(\"../player/bmp/knight/idle/1.bmp\", \"../player/bmp/knight/idle/flip_1.bmp\")\n",
    "flip_bmp(\"../player/bmp/knight/idle/2.bmp\", \"../player/bmp/knight/idle/flip_2.bmp\")\n",
    "flip_bmp(\"../player/bmp/knight/idle/3.bmp\", \"../player/bmp/knight/idle/flip_3.bmp\")\n",
    "flip_bmp(\"../player/bmp/knight/idle/4.bmp\", \"../player/bmp/knight/idle/flip_4.bmp\")"
   ]
  },
  {
   "cell_type": "markdown",
   "metadata": {},
   "source": [
    "### run"
   ]
  },
  {
   "cell_type": "code",
   "execution_count": 12,
   "metadata": {},
   "outputs": [],
   "source": [
    "flip_bmp(\"player/bmp/knight/run/1.bmp\", \"player/bmp/knight/run/flip_1.bmp\")\n",
    "flip_bmp(\"player/bmp/knight/run/2.bmp\", \"player/bmp/knight/run/flip_2.bmp\")\n",
    "flip_bmp(\"player/bmp/knight/run/3.bmp\", \"player/bmp/knight/run/flip_3.bmp\")\n",
    "flip_bmp(\"player/bmp/knight/run/4.bmp\", \"player/bmp/knight/run/flip_4.bmp\")"
   ]
  },
  {
   "cell_type": "markdown",
   "metadata": {},
   "source": [
    "### skill"
   ]
  },
  {
   "cell_type": "code",
   "execution_count": 13,
   "metadata": {},
   "outputs": [],
   "source": [
    "flip_bmp(\"player/bmp/knight/skill/1.bmp\", \"player/bmp/knight/skill/flip_1.bmp\")\n",
    "flip_bmp(\"player/bmp/knight/skill/2.bmp\", \"player/bmp/knight/skill/flip_2.bmp\")\n",
    "flip_bmp(\"player/bmp/knight/skill/3.bmp\", \"player/bmp/knight/skill/flip_3.bmp\")\n",
    "flip_bmp(\"player/bmp/knight/skill/4.bmp\", \"player/bmp/knight/skill/flip_4.bmp\")\n",
    "flip_bmp(\"player/bmp/knight/skill/5.bmp\", \"player/bmp/knight/skill/flip_5.bmp\")\n",
    "flip_bmp(\"player/bmp/knight/skill/6.bmp\", \"player/bmp/knight/skill/flip_6.bmp\")"
   ]
  },
  {
   "cell_type": "markdown",
   "metadata": {},
   "source": [
    "## Priestess"
   ]
  },
  {
   "cell_type": "markdown",
   "metadata": {},
   "source": [
    "###  idle"
   ]
  },
  {
   "cell_type": "code",
   "execution_count": 14,
   "metadata": {},
   "outputs": [],
   "source": [
    "flip_bmp(\"player/bmp/priestess/idle/1.bmp\", \"player/bmp/priestess/idle/flip_1.bmp\")\n",
    "flip_bmp(\"player/bmp/priestess/idle/2.bmp\", \"player/bmp/priestess/idle/flip_2.bmp\")\n",
    "flip_bmp(\"player/bmp/priestess/idle/3.bmp\", \"player/bmp/priestess/idle/flip_3.bmp\")\n",
    "flip_bmp(\"player/bmp/priestess/idle/4.bmp\", \"player/bmp/priestess/idle/flip_4.bmp\")"
   ]
  },
  {
   "cell_type": "markdown",
   "metadata": {},
   "source": [
    "### run"
   ]
  },
  {
   "cell_type": "code",
   "execution_count": 15,
   "metadata": {},
   "outputs": [],
   "source": [
    "flip_bmp(\"player/bmp/priestess/run/1.bmp\", \"player/bmp/priestess/run/flip_1.bmp\")\n",
    "flip_bmp(\"player/bmp/priestess/run/2.bmp\", \"player/bmp/priestess/run/flip_2.bmp\")\n",
    "flip_bmp(\"player/bmp/priestess/run/3.bmp\", \"player/bmp/priestess/run/flip_3.bmp\")\n",
    "flip_bmp(\"player/bmp/priestess/run/4.bmp\", \"player/bmp/priestess/run/flip_4.bmp\")"
   ]
  },
  {
   "cell_type": "markdown",
   "metadata": {},
   "source": [
    "## Rogue"
   ]
  },
  {
   "cell_type": "markdown",
   "metadata": {},
   "source": [
    "### idle"
   ]
  },
  {
   "cell_type": "code",
   "execution_count": 17,
   "metadata": {},
   "outputs": [],
   "source": [
    "flip_bmp(\"player/bmp/rogue/idle/1.bmp\", \"player/bmp/rogue/idle/flip_1.bmp\")\n",
    "flip_bmp(\"player/bmp/rogue/idle/2.bmp\", \"player/bmp/rogue/idle/flip_2.bmp\")\n",
    "flip_bmp(\"player/bmp/rogue/idle/3.bmp\", \"player/bmp/rogue/idle/flip_3.bmp\")\n",
    "flip_bmp(\"player/bmp/rogue/idle/4.bmp\", \"player/bmp/rogue/idle/flip_4.bmp\")"
   ]
  },
  {
   "cell_type": "markdown",
   "metadata": {},
   "source": [
    "### roll"
   ]
  },
  {
   "cell_type": "code",
   "execution_count": null,
   "metadata": {},
   "outputs": [],
   "source": [
    "flip_bmp(\"player/bmp/rogue/roll/1.bmp\", \"player/bmp/rogue/roll/flip_1.bmp\")\n",
    "flip_bmp(\"player/bmp/rogue/roll/2.bmp\", \"player/bmp/rogue/roll/flip_2.bmp\")\n",
    "flip_bmp(\"player/bmp/rogue/roll/3.bmp\", \"player/bmp/rogue/roll/flip_3.bmp\")\n",
    "flip_bmp(\"player/bmp/rogue/roll/4.bmp\", \"player/bmp/rogue/roll/flip_4.bmp\")"
   ]
  },
  {
   "cell_type": "markdown",
   "metadata": {},
   "source": [
    "### run"
   ]
  },
  {
   "cell_type": "code",
   "execution_count": null,
   "metadata": {},
   "outputs": [],
   "source": [
    "flip_bmp(\"player/bmp/rogue/run/1.bmp\", \"player/bmp/rogue/run/flip_1.bmp\")\n",
    "flip_bmp(\"player/bmp/rogue/run/2.bmp\", \"player/bmp/rogue/run/flip_2.bmp\")\n",
    "flip_bmp(\"player/bmp/rogue/run/3.bmp\", \"player/bmp/rogue/run/flip_3.bmp\")\n",
    "flip_bmp(\"player/bmp/rogue/run/4.bmp\", \"player/bmp/rogue/run/flip_4.bmp\")"
   ]
  }
 ],
 "metadata": {
  "kernelspec": {
   "display_name": "Python 3",
   "language": "python",
   "name": "python3"
  },
  "language_info": {
   "codemirror_mode": {
    "name": "ipython",
    "version": 3
   },
   "file_extension": ".py",
   "mimetype": "text/x-python",
   "name": "python",
   "nbconvert_exporter": "python",
   "pygments_lexer": "ipython3",
   "version": "3.12.2"
  }
 },
 "nbformat": 4,
 "nbformat_minor": 2
}
